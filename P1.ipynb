{
 "cells": [
  {
   "cell_type": "code",
   "execution_count": 2,
   "metadata": {},
   "outputs": [
    {
     "name": "stdout",
     "output_type": "stream",
     "text": [
      "Requirement already satisfied: pandas in /Users/Kevin/CD/6to Semestre/.venv/lib/python3.13/site-packages (2.2.3)\n",
      "Requirement already satisfied: numpy>=1.26.0 in /Users/Kevin/CD/6to Semestre/.venv/lib/python3.13/site-packages (from pandas) (2.2.3)\n",
      "Requirement already satisfied: python-dateutil>=2.8.2 in /Users/Kevin/CD/6to Semestre/.venv/lib/python3.13/site-packages (from pandas) (2.9.0.post0)\n",
      "Requirement already satisfied: pytz>=2020.1 in /Users/Kevin/CD/6to Semestre/.venv/lib/python3.13/site-packages (from pandas) (2025.1)\n",
      "Requirement already satisfied: tzdata>=2022.7 in /Users/Kevin/CD/6to Semestre/.venv/lib/python3.13/site-packages (from pandas) (2025.1)\n",
      "Requirement already satisfied: six>=1.5 in /Users/Kevin/CD/6to Semestre/.venv/lib/python3.13/site-packages (from python-dateutil>=2.8.2->pandas) (1.17.0)\n",
      "Requirement already satisfied: scipy in /Users/Kevin/CD/6to Semestre/.venv/lib/python3.13/site-packages (1.15.1)\n",
      "Requirement already satisfied: numpy<2.5,>=1.23.5 in /Users/Kevin/CD/6to Semestre/.venv/lib/python3.13/site-packages (from scipy) (2.2.3)\n",
      "Requirement already satisfied: matplotlib in /Users/Kevin/CD/6to Semestre/.venv/lib/python3.13/site-packages (3.10.0)\n",
      "Requirement already satisfied: contourpy>=1.0.1 in /Users/Kevin/CD/6to Semestre/.venv/lib/python3.13/site-packages (from matplotlib) (1.3.1)\n",
      "Requirement already satisfied: cycler>=0.10 in /Users/Kevin/CD/6to Semestre/.venv/lib/python3.13/site-packages (from matplotlib) (0.12.1)\n",
      "Requirement already satisfied: fonttools>=4.22.0 in /Users/Kevin/CD/6to Semestre/.venv/lib/python3.13/site-packages (from matplotlib) (4.56.0)\n",
      "Requirement already satisfied: kiwisolver>=1.3.1 in /Users/Kevin/CD/6to Semestre/.venv/lib/python3.13/site-packages (from matplotlib) (1.4.8)\n",
      "Requirement already satisfied: numpy>=1.23 in /Users/Kevin/CD/6to Semestre/.venv/lib/python3.13/site-packages (from matplotlib) (2.2.3)\n",
      "Requirement already satisfied: packaging>=20.0 in /Users/Kevin/CD/6to Semestre/.venv/lib/python3.13/site-packages (from matplotlib) (24.2)\n",
      "Requirement already satisfied: pillow>=8 in /Users/Kevin/CD/6to Semestre/.venv/lib/python3.13/site-packages (from matplotlib) (11.1.0)\n",
      "Requirement already satisfied: pyparsing>=2.3.1 in /Users/Kevin/CD/6to Semestre/.venv/lib/python3.13/site-packages (from matplotlib) (3.2.1)\n",
      "Requirement already satisfied: python-dateutil>=2.7 in /Users/Kevin/CD/6to Semestre/.venv/lib/python3.13/site-packages (from matplotlib) (2.9.0.post0)\n",
      "Requirement already satisfied: six>=1.5 in /Users/Kevin/CD/6to Semestre/.venv/lib/python3.13/site-packages (from python-dateutil>=2.7->matplotlib) (1.17.0)\n",
      "Requirement already satisfied: seaborn in /Users/Kevin/CD/6to Semestre/.venv/lib/python3.13/site-packages (0.13.2)\n",
      "Requirement already satisfied: numpy!=1.24.0,>=1.20 in /Users/Kevin/CD/6to Semestre/.venv/lib/python3.13/site-packages (from seaborn) (2.2.3)\n",
      "Requirement already satisfied: pandas>=1.2 in /Users/Kevin/CD/6to Semestre/.venv/lib/python3.13/site-packages (from seaborn) (2.2.3)\n",
      "Requirement already satisfied: matplotlib!=3.6.1,>=3.4 in /Users/Kevin/CD/6to Semestre/.venv/lib/python3.13/site-packages (from seaborn) (3.10.0)\n",
      "Requirement already satisfied: contourpy>=1.0.1 in /Users/Kevin/CD/6to Semestre/.venv/lib/python3.13/site-packages (from matplotlib!=3.6.1,>=3.4->seaborn) (1.3.1)\n",
      "Requirement already satisfied: cycler>=0.10 in /Users/Kevin/CD/6to Semestre/.venv/lib/python3.13/site-packages (from matplotlib!=3.6.1,>=3.4->seaborn) (0.12.1)\n",
      "Requirement already satisfied: fonttools>=4.22.0 in /Users/Kevin/CD/6to Semestre/.venv/lib/python3.13/site-packages (from matplotlib!=3.6.1,>=3.4->seaborn) (4.56.0)\n",
      "Requirement already satisfied: kiwisolver>=1.3.1 in /Users/Kevin/CD/6to Semestre/.venv/lib/python3.13/site-packages (from matplotlib!=3.6.1,>=3.4->seaborn) (1.4.8)\n",
      "Requirement already satisfied: packaging>=20.0 in /Users/Kevin/CD/6to Semestre/.venv/lib/python3.13/site-packages (from matplotlib!=3.6.1,>=3.4->seaborn) (24.2)\n",
      "Requirement already satisfied: pillow>=8 in /Users/Kevin/CD/6to Semestre/.venv/lib/python3.13/site-packages (from matplotlib!=3.6.1,>=3.4->seaborn) (11.1.0)\n",
      "Requirement already satisfied: pyparsing>=2.3.1 in /Users/Kevin/CD/6to Semestre/.venv/lib/python3.13/site-packages (from matplotlib!=3.6.1,>=3.4->seaborn) (3.2.1)\n",
      "Requirement already satisfied: python-dateutil>=2.7 in /Users/Kevin/CD/6to Semestre/.venv/lib/python3.13/site-packages (from matplotlib!=3.6.1,>=3.4->seaborn) (2.9.0.post0)\n",
      "Requirement already satisfied: pytz>=2020.1 in /Users/Kevin/CD/6to Semestre/.venv/lib/python3.13/site-packages (from pandas>=1.2->seaborn) (2025.1)\n",
      "Requirement already satisfied: tzdata>=2022.7 in /Users/Kevin/CD/6to Semestre/.venv/lib/python3.13/site-packages (from pandas>=1.2->seaborn) (2025.1)\n",
      "Requirement already satisfied: six>=1.5 in /Users/Kevin/CD/6to Semestre/.venv/lib/python3.13/site-packages (from python-dateutil>=2.7->matplotlib!=3.6.1,>=3.4->seaborn) (1.17.0)\n"
     ]
    }
   ],
   "source": [
    "!pip install pandas\n",
    "!pip install scipy\n",
    "!pip install matplotlib\n",
    "!pip install seaborn"
   ]
  },
  {
   "cell_type": "code",
   "execution_count": 3,
   "metadata": {},
   "outputs": [],
   "source": [
    "import pandas as pd\n",
    "import scipy.stats as stats\n",
    "import matplotlib.pyplot as plt\n",
    "import seaborn as sns"
   ]
  },
  {
   "cell_type": "code",
   "execution_count": 4,
   "metadata": {},
   "outputs": [],
   "source": [
    "df = pd.read_csv(\"/Users/Kevin/Downloads/type of the Diamond new.csv\")"
   ]
  },
  {
   "cell_type": "code",
   "execution_count": 5,
   "metadata": {},
   "outputs": [
    {
     "data": {
      "text/plain": [
       "cut\n",
       "Ideal        21551\n",
       "Premium      13791\n",
       "Very Good    12082\n",
       "Good          4906\n",
       "Fair          1610\n",
       "Name: count, dtype: int64"
      ]
     },
     "execution_count": 5,
     "metadata": {},
     "output_type": "execute_result"
    }
   ],
   "source": [
    "df.value_counts(\"cut\")"
   ]
  },
  {
   "cell_type": "code",
   "execution_count": 7,
   "metadata": {},
   "outputs": [
    {
     "name": "stdout",
     "output_type": "stream",
     "text": [
      "ANOVA con scipy:\n",
      "F-stat: 175.6887, p-value: 0.0000\n",
      "\n",
      "ANOVA calculado manualmente:\n",
      "F-stat: 175.6887\n"
     ]
    }
   ],
   "source": [
    "### MÉTODO 1: ANOVA USANDO SCIPY ###\n",
    "prices_by_cut = [df[df[\"cut\"] == c][\"price\"] for c in df[\"cut\"].unique()]\n",
    "f_stat, p_value = stats.f_oneway(*prices_by_cut)\n",
    "\n",
    "### MÉTODO 2: ANOVA MANUAL ###\n",
    "N = len(df)  # Número total de observaciones\n",
    "k = df[\"cut\"].nunique()  # Número de grupos\n",
    "\n",
    "# Media global\n",
    "grand_mean = df[\"price\"].mean()\n",
    "\n",
    "# Suma de cuadrados entre grupos (SSB)\n",
    "SSB = sum(df[df[\"cut\"] == c][\"price\"].count() * (df[df[\"cut\"] == c][\"price\"].mean() - grand_mean) ** 2 for c in df[\"cut\"].unique())\n",
    "\n",
    "# Suma de cuadrados dentro de los grupos (SSW)\n",
    "SSW = sum(sum((df[df[\"cut\"] == c][\"price\"] - df[df[\"cut\"] == c][\"price\"].mean()) ** 2) for c in df[\"cut\"].unique())\n",
    "\n",
    "# Grados de libertad\n",
    "dfb = k - 1  # Grados de libertad entre grupos\n",
    "dfw = N - k  # Grados de libertad dentro de los grupos\n",
    "\n",
    "# Cálculo de la varianza\n",
    "MSB = SSB / dfb  # Varianza entre grupos\n",
    "MSW = SSW / dfw  # Varianza dentro de los grupos\n",
    "\n",
    "# Estadístico F manual\n",
    "F_manual = MSB / MSW\n",
    "\n",
    "print(\"ANOVA con scipy:\")\n",
    "print(f\"F-stat: {f_stat:.4f}, p-value: {p_value:.4f}\")\n",
    "\n",
    "print(\"\\nANOVA calculado manualmente:\")\n",
    "print(f\"F-stat: {F_manual:.4f}\")"
   ]
  },
  {
   "cell_type": "code",
   "execution_count": 8,
   "metadata": {},
   "outputs": [
    {
     "name": "stdout",
     "output_type": "stream",
     "text": [
      "¿El corte del diamante tiene un efecto significativo en su precio?\n",
      "\n"
     ]
    },
    {
     "data": {
      "image/png": "[encoded data removed]",
      "text/plain": [
       "<Figure size 1000x600 with 1 Axes>"
      ]
     },
     "metadata": {},
     "output_type": "display_data"
    },
    {
     "name": "stdout",
     "output_type": "stream",
     "text": [
      "Estadístico F: 175.69\n",
      "P-valor: 0.0000000000\n",
      "\n",
      "Conclusión: Existe una diferencia significativa en los precios según el tipo de corte.\n"
     ]
    }
   ],
   "source": [
    "# Planteamiento del problema\n",
    "print(\"¿El corte del diamante tiene un efecto significativo en su precio?\\n\")\n",
    "\n",
    "# Visualización de la distribución de precios por corte\n",
    "plt.figure(figsize=(10, 6))\n",
    "sns.boxplot(x=\"cut\", y=\"price\", data=df, order=[\"Fair\", \"Good\", \"Very Good\", \"Premium\", \"Ideal\"])\n",
    "plt.title(\"Distribución de precios según el tipo de corte\")\n",
    "plt.xlabel(\"Tipo de Corte\")\n",
    "plt.ylabel(\"Precio\")\n",
    "plt.show()\n",
    "\n",
    "# Separar los precios por tipo de corte\n",
    "prices_by_cut = [df[df[\"cut\"] == c][\"price\"] for c in df[\"cut\"].unique()]\n",
    "\n",
    "# Realizar ANOVA de una vía\n",
    "f_stat, p_value = stats.f_oneway(*prices_by_cut)\n",
    "\n",
    "# Mostrar resultados\n",
    "print(f\"Estadístico F: {f_stat:.2f}\")\n",
    "print(f\"P-valor: {p_value:.10f}\")\n",
    "\n",
    "# Interpretación del resultado\n",
    "alpha = 0.05\n",
    "if p_value < alpha:\n",
    "    print(\"\\nConclusión: Existe una diferencia significativa en los precios según el tipo de corte.\")\n",
    "else:\n",
    "    print(\"\\nConclusión: No se encontraron diferencias significativas entre los tipos de corte.\")"
   ]
  },
  {
   "cell_type": "code",
   "execution_count": null,
   "metadata": {},
   "outputs": [],
   "source": []
  }
 ],
 "metadata": {
  "kernelspec": {
   "display_name": ".venv",
   "language": "python",
   "name": "python3"
  },
  "language_info": {
   "codemirror_mode": {
    "name": "ipython",
    "version": 3
   },
   "file_extension": ".py",
   "mimetype": "text/x-python",
   "name": "python",
   "nbconvert_exporter": "python",
   "pygments_lexer": "ipython3",
   "version": "3.13.0"
  }
 },
 "nbformat": 4,
 "nbformat_minor": 2
}
